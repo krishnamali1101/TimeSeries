{
 "cells": [
  {
   "cell_type": "code",
   "execution_count": 29,
   "metadata": {},
   "outputs": [],
   "source": [
    "import pandas\n",
    "import matplotlib.pyplot as plt\n",
    "import numpy as np\n",
    "import math\n",
    "\n",
    "\n",
    "from sklearn.model_selection import GridSearchCV , cross_val_predict\n",
    "from sklearn.metrics import classification_report\n",
    "from keras.wrappers.scikit_learn import KerasClassifier\n",
    "\n",
    "from keras.models import Sequential\n",
    "from sklearn.preprocessing import MinMaxScaler\n",
    "from sklearn.metrics import mean_squared_error, accuracy_score\n",
    "\n",
    "from keras.layers import LSTM, Input, Dense, Reshape\n",
    "from keras.models import Model\n",
    "from keras.utils.vis_utils import plot_model\n",
    "from keras.activations import relu, elu\n",
    "\n",
    "from scipy.stats import bernoulli\n",
    "from sklearn.model_selection import train_test_split as split"
   ]
  },
  {
   "cell_type": "code",
   "execution_count": 30,
   "metadata": {},
   "outputs": [],
   "source": [
    "# load the dataset\n",
    "dataframe = pandas.read_csv('IBM.1Min.TradesOnly.20160128.csv', usecols=[6], engine='python', skipfooter=3)\n",
    "dataset = dataframe.values\n",
    "dataset = dataset.astype('float32')\n",
    "dataframe.head(5)\n",
    "\n",
    "# normalize the dataset\n",
    "scaler = MinMaxScaler(feature_range=(0, 1))\n",
    "dataset = scaler.fit_transform(dataset)\n",
    "\n",
    "# split into train and test sets\n",
    "train_size = int(len(dataset) * 0.70)\n",
    "test_size = len(dataset) - train_size\n",
    "train, test = dataset[0:train_size,:], dataset[train_size:len(dataset),:]\n",
    "\n"
   ]
  },
  {
   "cell_type": "code",
   "execution_count": 33,
   "metadata": {},
   "outputs": [],
   "source": [
    "\n",
    "\n",
    " #convert an array of values into a dataset matrix\n",
    "def create_dataset(dataset, look_back):\n",
    "\tdataX, dataY = [], []\n",
    "\tfor i in range(len(dataset)-look_back-1):\n",
    "\t\ta = dataset[i:(i+look_back), 0]\n",
    "\t\tdataX.append(a)\n",
    "\t\tdataY.append(dataset[i + look_back, 0])\n",
    "\treturn np.array(dataX), np.array(dataY)\n",
    "\n",
    "# reshape into X=t and Y=t+1\n",
    "look_back = 1\n",
    "trainX, trainY = create_dataset(train, look_back)\n",
    "testX, testY = create_dataset(test, look_back)\n",
    "#plt.plot(train)\n",
    "\n",
    "# reshape input to be [samples, time steps, features]\n",
    "trainX = np.reshape(trainX, (trainX.shape[0], look_back, trainX.shape[1]))\n",
    "testX = np.reshape(testX, (testX.shape[0], look_back, testX.shape[1]))\n",
    "\n",
    "# Segment the train_data based on new window_size; split into train and validation (80/20)\n",
    "X_train, X_val, y_train, y_val = split(trainX, trainY, test_size = 0.20, shuffle=False)\n",
    "\n",
    "# define the grid search parameters\n",
    "\n",
    "num_units=[10,12,24]\n",
    "activation=['relu']\n",
    "batch_size = [10,20,30]\n",
    "epochs = [10, 50, 100]\n",
    "param_grid = dict(batch_size=batch_size, activation=activation, epochs=epochs, num_units=num_units)\n",
    "\n",
    "## Gridsearchcv model for optimizing\n",
    "def grid_model(activation='relu',num_units=1):\n",
    "    model = Sequential()\n",
    "    #model.add(Reshape((-1,1), input_shape=(train_X.shape[1], train_X.shape[2]))\n",
    "    model.add(LSTM(num_units,input_shape=(X_train.shape[1], X_train.shape[2])))\n",
    "    model.add(Dense(1,activation=activation))\n",
    "    model.compile(loss='mean_squared_error', optimizer='adam',metrics=['acc'])\n",
    "    #model.fit(trainX, trainY, epochs=param_grid['epochs'], batch_size=param_grid['batch_size'], verbose=2,validation_data=[X_val, y_val])                    \n",
    "    return model\n",
    "\n"
   ]
  },
  {
   "cell_type": "code",
   "execution_count": 34,
   "metadata": {},
   "outputs": [],
   "source": [
    "model = KerasClassifier(build_fn=grid_model, verbose=0)\n",
    "grid = GridSearchCV(estimator=model, param_grid=param_grid,n_jobs=-1)"
   ]
  },
  {
   "cell_type": "code",
   "execution_count": 16,
   "metadata": {},
   "outputs": [],
   "source": [
    "#!pip install update sklearn"
   ]
  },
  {
   "cell_type": "code",
   "execution_count": 35,
   "metadata": {},
   "outputs": [
    {
     "data": {
      "text/plain": [
       "(227, 1, 1)"
      ]
     },
     "execution_count": 35,
     "metadata": {},
     "output_type": "execute_result"
    }
   ],
   "source": [
    "X_train.shape"
   ]
  },
  {
   "cell_type": "code",
   "execution_count": 36,
   "metadata": {},
   "outputs": [
    {
     "data": {
      "text/plain": [
       "(227,)"
      ]
     },
     "execution_count": 36,
     "metadata": {},
     "output_type": "execute_result"
    }
   ],
   "source": [
    "y_train.shape\n"
   ]
  },
  {
   "cell_type": "code",
   "execution_count": 37,
   "metadata": {
    "scrolled": true
   },
   "outputs": [
    {
     "name": "stderr",
     "output_type": "stream",
     "text": [
      "c:\\users\\sravanajyothi.n\\appdata\\local\\programs\\python\\python36\\lib\\site-packages\\sklearn\\model_selection\\_split.py:2053: FutureWarning: You should specify a value for 'cv' instead of relying on the default value. The default value will change from 3 to 5 in version 0.22.\n",
      "  warnings.warn(CV_WARNING, FutureWarning)\n",
      "c:\\users\\sravanajyothi.n\\appdata\\local\\programs\\python\\python36\\lib\\site-packages\\sklearn\\model_selection\\_search.py:841: DeprecationWarning: The default of the `iid` parameter will change from True to False in version 0.22 and will be removed in 0.24. This will change numeric results when test-set sizes are unequal.\n",
      "  DeprecationWarning)\n"
     ]
    },
    {
     "name": "stdout",
     "output_type": "stream",
     "text": [
      "Train on 215 samples, validate on 12 samples\n",
      "Epoch 1/50\n",
      " - 28s - loss: 3560.6186 - acc: 0.0140 - val_loss: 8765.5000 - val_acc: 0.0000e+00\n",
      "Epoch 2/50\n",
      " - 0s - loss: 3560.6186 - acc: 0.0140 - val_loss: 8765.5000 - val_acc: 0.0000e+00\n",
      "Epoch 3/50\n",
      " - 0s - loss: 3560.6185 - acc: 0.0140 - val_loss: 8765.5000 - val_acc: 0.0000e+00\n",
      "Epoch 4/50\n",
      " - 0s - loss: 3560.6186 - acc: 0.0140 - val_loss: 8765.5000 - val_acc: 0.0000e+00\n",
      "Epoch 5/50\n",
      " - 0s - loss: 3560.6186 - acc: 0.0140 - val_loss: 8765.5000 - val_acc: 0.0000e+00\n",
      "Epoch 6/50\n",
      " - 0s - loss: 3560.6186 - acc: 0.0140 - val_loss: 8765.5000 - val_acc: 0.0000e+00\n",
      "Epoch 7/50\n",
      " - 0s - loss: 3560.6186 - acc: 0.0140 - val_loss: 8765.5000 - val_acc: 0.0000e+00\n",
      "Epoch 8/50\n",
      " - 0s - loss: 3560.6186 - acc: 0.0140 - val_loss: 8765.5000 - val_acc: 0.0000e+00\n",
      "Epoch 9/50\n",
      " - 0s - loss: 3560.6186 - acc: 0.0140 - val_loss: 8765.5000 - val_acc: 0.0000e+00\n",
      "Epoch 10/50\n",
      " - 0s - loss: 3560.6186 - acc: 0.0140 - val_loss: 8765.5000 - val_acc: 0.0000e+00\n",
      "Epoch 11/50\n",
      " - 0s - loss: 3560.6186 - acc: 0.0140 - val_loss: 8765.5000 - val_acc: 0.0000e+00\n",
      "Epoch 12/50\n",
      " - 0s - loss: 3560.6186 - acc: 0.0140 - val_loss: 8765.5000 - val_acc: 0.0000e+00\n",
      "Epoch 13/50\n",
      " - 0s - loss: 3560.6186 - acc: 0.0140 - val_loss: 8765.5000 - val_acc: 0.0000e+00\n",
      "Epoch 14/50\n",
      " - 0s - loss: 3560.6186 - acc: 0.0140 - val_loss: 8765.5000 - val_acc: 0.0000e+00\n",
      "Epoch 15/50\n",
      " - 0s - loss: 3560.6186 - acc: 0.0140 - val_loss: 8765.5000 - val_acc: 0.0000e+00\n",
      "Epoch 16/50\n",
      " - 0s - loss: 3560.6187 - acc: 0.0140 - val_loss: 8765.5000 - val_acc: 0.0000e+00\n",
      "Epoch 17/50\n",
      " - 0s - loss: 3560.6186 - acc: 0.0140 - val_loss: 8765.5000 - val_acc: 0.0000e+00\n",
      "Epoch 18/50\n",
      " - 0s - loss: 3560.6186 - acc: 0.0140 - val_loss: 8765.5000 - val_acc: 0.0000e+00\n",
      "Epoch 19/50\n",
      " - 0s - loss: 3560.6186 - acc: 0.0140 - val_loss: 8765.5000 - val_acc: 0.0000e+00\n",
      "Epoch 20/50\n",
      " - 0s - loss: 3560.6186 - acc: 0.0140 - val_loss: 8765.5000 - val_acc: 0.0000e+00\n",
      "Epoch 21/50\n",
      " - 0s - loss: 3560.6186 - acc: 0.0140 - val_loss: 8765.5000 - val_acc: 0.0000e+00\n",
      "Epoch 22/50\n",
      " - 0s - loss: 3560.6186 - acc: 0.0140 - val_loss: 8765.5000 - val_acc: 0.0000e+00\n",
      "Epoch 23/50\n",
      " - 0s - loss: 3560.6186 - acc: 0.0140 - val_loss: 8765.5000 - val_acc: 0.0000e+00\n",
      "Epoch 24/50\n",
      " - 0s - loss: 3560.6186 - acc: 0.0140 - val_loss: 8765.5000 - val_acc: 0.0000e+00\n",
      "Epoch 25/50\n",
      " - 0s - loss: 3560.6186 - acc: 0.0140 - val_loss: 8765.5000 - val_acc: 0.0000e+00\n",
      "Epoch 26/50\n",
      " - 0s - loss: 3560.6186 - acc: 0.0140 - val_loss: 8765.5000 - val_acc: 0.0000e+00\n",
      "Epoch 27/50\n",
      " - 0s - loss: 3560.6186 - acc: 0.0140 - val_loss: 8765.5000 - val_acc: 0.0000e+00\n",
      "Epoch 28/50\n",
      " - 0s - loss: 3560.6186 - acc: 0.0140 - val_loss: 8765.5000 - val_acc: 0.0000e+00\n",
      "Epoch 29/50\n",
      " - 0s - loss: 3560.6186 - acc: 0.0140 - val_loss: 8765.5000 - val_acc: 0.0000e+00\n",
      "Epoch 30/50\n",
      " - 0s - loss: 3560.6186 - acc: 0.0140 - val_loss: 8765.5000 - val_acc: 0.0000e+00\n",
      "Epoch 31/50\n",
      " - 0s - loss: 3560.6186 - acc: 0.0140 - val_loss: 8765.5000 - val_acc: 0.0000e+00\n",
      "Epoch 32/50\n",
      " - 0s - loss: 3560.6186 - acc: 0.0140 - val_loss: 8765.5000 - val_acc: 0.0000e+00\n",
      "Epoch 33/50\n",
      " - 0s - loss: 3560.6186 - acc: 0.0140 - val_loss: 8765.5000 - val_acc: 0.0000e+00\n",
      "Epoch 34/50\n",
      " - 0s - loss: 3560.6186 - acc: 0.0140 - val_loss: 8765.5000 - val_acc: 0.0000e+00\n",
      "Epoch 35/50\n",
      " - 0s - loss: 3560.6185 - acc: 0.0140 - val_loss: 8765.5000 - val_acc: 0.0000e+00\n",
      "Epoch 36/50\n",
      " - 0s - loss: 3560.6186 - acc: 0.0140 - val_loss: 8765.5000 - val_acc: 0.0000e+00\n",
      "Epoch 37/50\n",
      " - 0s - loss: 3560.6186 - acc: 0.0140 - val_loss: 8765.5000 - val_acc: 0.0000e+00\n",
      "Epoch 38/50\n",
      " - 0s - loss: 3560.6186 - acc: 0.0140 - val_loss: 8765.5000 - val_acc: 0.0000e+00\n",
      "Epoch 39/50\n",
      " - 0s - loss: 3560.6186 - acc: 0.0140 - val_loss: 8765.5000 - val_acc: 0.0000e+00\n",
      "Epoch 40/50\n",
      " - 0s - loss: 3560.6186 - acc: 0.0140 - val_loss: 8765.5000 - val_acc: 0.0000e+00\n",
      "Epoch 41/50\n",
      " - 0s - loss: 3560.6187 - acc: 0.0140 - val_loss: 8765.5000 - val_acc: 0.0000e+00\n",
      "Epoch 42/50\n",
      " - 0s - loss: 3560.6186 - acc: 0.0140 - val_loss: 8765.5000 - val_acc: 0.0000e+00\n",
      "Epoch 43/50\n",
      " - 0s - loss: 3560.6186 - acc: 0.0140 - val_loss: 8765.5000 - val_acc: 0.0000e+00\n",
      "Epoch 44/50\n",
      " - 0s - loss: 3560.6186 - acc: 0.0140 - val_loss: 8765.5000 - val_acc: 0.0000e+00\n",
      "Epoch 45/50\n",
      " - 0s - loss: 3560.6186 - acc: 0.0140 - val_loss: 8765.5000 - val_acc: 0.0000e+00\n",
      "Epoch 46/50\n",
      " - 0s - loss: 3560.6186 - acc: 0.0140 - val_loss: 8765.5000 - val_acc: 0.0000e+00\n",
      "Epoch 47/50\n",
      " - 0s - loss: 3560.6186 - acc: 0.0140 - val_loss: 8765.5000 - val_acc: 0.0000e+00\n",
      "Epoch 48/50\n",
      " - 0s - loss: 3560.6186 - acc: 0.0140 - val_loss: 8765.5000 - val_acc: 0.0000e+00\n",
      "Epoch 49/50\n",
      " - 0s - loss: 3560.6186 - acc: 0.0140 - val_loss: 8765.5000 - val_acc: 0.0000e+00\n",
      "Epoch 50/50\n",
      " - 0s - loss: 3560.6186 - acc: 0.0140 - val_loss: 8765.5000 - val_acc: 0.0000e+00\n"
     ]
    },
    {
     "data": {
      "text/plain": [
       "GridSearchCV(cv='warn', error_score='raise-deprecating',\n",
       "       estimator=<keras.wrappers.scikit_learn.KerasClassifier object at 0x000002029E7637F0>,\n",
       "       fit_params=None, iid='warn', n_jobs=-1,\n",
       "       param_grid={'batch_size': [10, 20, 30], 'activation': ['relu'], 'epochs': [10, 50, 100], 'num_units': [10, 12, 24]},\n",
       "       pre_dispatch='2*n_jobs', refit=True, return_train_score='warn',\n",
       "       scoring=None, verbose=0)"
      ]
     },
     "execution_count": 37,
     "metadata": {},
     "output_type": "execute_result"
    }
   ],
   "source": [
    "grid.fit(X_train, y_train, validation_split = 0.05,verbose=2)\n",
    "\n",
    "\n",
    "\n"
   ]
  },
  {
   "cell_type": "code",
   "execution_count": 38,
   "metadata": {},
   "outputs": [
    {
     "name": "stdout",
     "output_type": "stream",
     "text": [
      "Best Params\n"
     ]
    }
   ],
   "source": [
    "print(\"Best Params\" % (grid.best_params_))"
   ]
  },
  {
   "cell_type": "code",
   "execution_count": 39,
   "metadata": {},
   "outputs": [
    {
     "name": "stdout",
     "output_type": "stream",
     "text": [
      "Best: 0.035242 using {'activation': 'relu', 'batch_size': 30, 'epochs': 50, 'num_units': 24}\n"
     ]
    }
   ],
   "source": [
    "# summarize results\n",
    "print(\"Best: %f using %s\" % (grid.best_score_, grid.best_params_))\n",
    "means = grid.cv_results_['mean_test_score']\n",
    "\n",
    "#Get best estimator with best params\n",
    "grid_best=grid.best_estimator_\n",
    "\n",
    "#Predict with best model\n",
    "trainPredict = grid_best.predict(X_train)\n",
    "testPredict = grid_best.predict(testX)"
   ]
  },
  {
   "cell_type": "code",
   "execution_count": 40,
   "metadata": {},
   "outputs": [
    {
     "name": "stdout",
     "output_type": "stream",
     "text": [
      "Train on 227 samples, validate on 57 samples\n",
      "Epoch 1/50\n",
      " - 29s - loss: 0.2231 - val_loss: 0.4373\n",
      "Epoch 2/50\n",
      " - 0s - loss: 0.1981 - val_loss: 0.3931\n",
      "Epoch 3/50\n",
      " - 0s - loss: 0.1739 - val_loss: 0.3510\n",
      "Epoch 4/50\n",
      " - 0s - loss: 0.1519 - val_loss: 0.3104\n",
      "Epoch 5/50\n",
      " - 0s - loss: 0.1310 - val_loss: 0.2728\n",
      "Epoch 6/50\n",
      " - 0s - loss: 0.1117 - val_loss: 0.2376\n",
      "Epoch 7/50\n",
      " - 0s - loss: 0.0948 - val_loss: 0.2043\n",
      "Epoch 8/50\n",
      " - 0s - loss: 0.0797 - val_loss: 0.1735\n",
      "Epoch 9/50\n",
      " - 0s - loss: 0.0659 - val_loss: 0.1461\n",
      "Epoch 10/50\n",
      " - 0s - loss: 0.0544 - val_loss: 0.1216\n",
      "Epoch 11/50\n",
      " - 0s - loss: 0.0454 - val_loss: 0.0999\n",
      "Epoch 12/50\n",
      " - 0s - loss: 0.0376 - val_loss: 0.0820\n",
      "Epoch 13/50\n",
      " - 0s - loss: 0.0320 - val_loss: 0.0672\n",
      "Epoch 14/50\n",
      " - 0s - loss: 0.0281 - val_loss: 0.0552\n",
      "Epoch 15/50\n",
      " - 0s - loss: 0.0252 - val_loss: 0.0458\n",
      "Epoch 16/50\n",
      " - 0s - loss: 0.0232 - val_loss: 0.0389\n",
      "Epoch 17/50\n",
      " - 0s - loss: 0.0222 - val_loss: 0.0334\n",
      "Epoch 18/50\n",
      " - 0s - loss: 0.0213 - val_loss: 0.0298\n",
      "Epoch 19/50\n",
      " - 0s - loss: 0.0208 - val_loss: 0.0271\n",
      "Epoch 20/50\n",
      " - 0s - loss: 0.0204 - val_loss: 0.0253\n",
      "Epoch 21/50\n",
      " - 0s - loss: 0.0200 - val_loss: 0.0241\n",
      "Epoch 22/50\n",
      " - 0s - loss: 0.0197 - val_loss: 0.0230\n",
      "Epoch 23/50\n",
      " - 0s - loss: 0.0194 - val_loss: 0.0219\n",
      "Epoch 24/50\n",
      " - 0s - loss: 0.0190 - val_loss: 0.0213\n",
      "Epoch 25/50\n",
      " - 0s - loss: 0.0187 - val_loss: 0.0211\n",
      "Epoch 26/50\n",
      " - 0s - loss: 0.0183 - val_loss: 0.0210\n",
      "Epoch 27/50\n",
      " - 0s - loss: 0.0180 - val_loss: 0.0202\n",
      "Epoch 28/50\n",
      " - 0s - loss: 0.0176 - val_loss: 0.0200\n",
      "Epoch 29/50\n",
      " - 0s - loss: 0.0173 - val_loss: 0.0189\n",
      "Epoch 30/50\n",
      " - 0s - loss: 0.0169 - val_loss: 0.0184\n",
      "Epoch 31/50\n",
      " - 0s - loss: 0.0166 - val_loss: 0.0180\n",
      "Epoch 32/50\n",
      " - 0s - loss: 0.0163 - val_loss: 0.0177\n",
      "Epoch 33/50\n",
      " - 0s - loss: 0.0159 - val_loss: 0.0171\n",
      "Epoch 34/50\n",
      " - 0s - loss: 0.0156 - val_loss: 0.0163\n",
      "Epoch 35/50\n",
      " - 0s - loss: 0.0152 - val_loss: 0.0162\n",
      "Epoch 36/50\n",
      " - 0s - loss: 0.0149 - val_loss: 0.0159\n",
      "Epoch 37/50\n",
      " - 0s - loss: 0.0146 - val_loss: 0.0156\n",
      "Epoch 38/50\n",
      " - 0s - loss: 0.0143 - val_loss: 0.0148\n",
      "Epoch 39/50\n",
      " - 0s - loss: 0.0139 - val_loss: 0.0143\n",
      "Epoch 40/50\n",
      " - 0s - loss: 0.0136 - val_loss: 0.0141\n",
      "Epoch 41/50\n",
      " - 0s - loss: 0.0133 - val_loss: 0.0137\n",
      "Epoch 42/50\n",
      " - 0s - loss: 0.0130 - val_loss: 0.0129\n",
      "Epoch 43/50\n",
      " - 0s - loss: 0.0127 - val_loss: 0.0122\n",
      "Epoch 44/50\n",
      " - 0s - loss: 0.0124 - val_loss: 0.0115\n",
      "Epoch 45/50\n",
      " - 0s - loss: 0.0121 - val_loss: 0.0110\n",
      "Epoch 46/50\n",
      " - 0s - loss: 0.0118 - val_loss: 0.0113\n",
      "Epoch 47/50\n",
      " - 0s - loss: 0.0115 - val_loss: 0.0111\n",
      "Epoch 48/50\n",
      " - 0s - loss: 0.0112 - val_loss: 0.0105\n",
      "Epoch 49/50\n",
      " - 0s - loss: 0.0109 - val_loss: 0.0098\n",
      "Epoch 50/50\n",
      " - 0s - loss: 0.0106 - val_loss: 0.0092\n"
     ]
    }
   ],
   "source": [
    "#### Alternate - Train the model with best params\n",
    "model1 = Sequential()\n",
    "model1.add(LSTM(grid.best_params_['num_units'], input_shape=(1, look_back)))\n",
    "model1.add(Dense(1))\n",
    "model1.compile(loss='mean_squared_error',  optimizer='adam')\n",
    "model1.fit(X_train, y_train, epochs=grid.best_params_['epochs'], batch_size=grid.best_params_['batch_size'], verbose=2,validation_data=[X_val,y_val])\n",
    "\n",
    "# make predictions with newly trained model\n",
    "\n",
    "trainPredict = model1.predict(X_train)\n",
    "testPredict = model1.predict(testX)\n",
    "\n",
    "#Reshape \n",
    "y_train=np.reshape(y_train,(y_train.shape[0],1))\n",
    "testY=np.reshape(testY,(testY.shape[0],1))\n",
    "\n",
    "\n"
   ]
  },
  {
   "cell_type": "code",
   "execution_count": 41,
   "metadata": {},
   "outputs": [
    {
     "name": "stdout",
     "output_type": "stream",
     "text": [
      "Train Score: 0.19 RMSE\n",
      "Test Score: 0.24 RMSE\n"
     ]
    },
    {
     "data": {
      "text/plain": [
       "[<matplotlib.lines.Line2D at 0x202a4882748>]"
      ]
     },
     "execution_count": 41,
     "metadata": {},
     "output_type": "execute_result"
    },
    {
     "data": {
      "image/png": "[encoded data removed]",
      "text/plain": [
       "<Figure size 432x288 with 1 Axes>"
      ]
     },
     "metadata": {
      "needs_background": "light"
     },
     "output_type": "display_data"
    }
   ],
   "source": [
    "# invert predictions\n",
    "trainPredict = scaler.inverse_transform(trainPredict)\n",
    "y_train = scaler.inverse_transform(y_train)\n",
    "testPredict = scaler.inverse_transform(testPredict)\n",
    "testY = scaler.inverse_transform(testY)\n",
    "\n",
    "# calculate root mean squared error\n",
    "trainScore = math.sqrt(mean_squared_error(y_train, trainPredict))\n",
    "print('Train Score: %.2f RMSE' % (trainScore))\n",
    "testScore = math.sqrt(mean_squared_error(testY, testPredict))\n",
    "print('Test Score: %.2f RMSE' % (testScore))\n",
    "\n",
    "# PLot graphs\n",
    "plt.plot(y_train)\n",
    "plt.plot(trainPredict)"
   ]
  },
  {
   "cell_type": "code",
   "execution_count": 42,
   "metadata": {},
   "outputs": [
    {
     "data": {
      "text/plain": [
       "[<matplotlib.lines.Line2D at 0x202a48e31d0>]"
      ]
     },
     "execution_count": 42,
     "metadata": {},
     "output_type": "execute_result"
    },
    {
     "data": {
      "image/png": "[encoded data removed]",
      "text/plain": [
       "<Figure size 432x288 with 1 Axes>"
      ]
     },
     "metadata": {
      "needs_background": "light"
     },
     "output_type": "display_data"
    }
   ],
   "source": [
    "# PLot graphs\n",
    "plt.plot(testY)\n",
    "plt.plot(testPredict)"
   ]
  },
  {
   "cell_type": "code",
   "execution_count": null,
   "metadata": {},
   "outputs": [],
   "source": []
  }
 ],
 "metadata": {
  "kernelspec": {
   "display_name": "Python 3",
   "language": "python",
   "name": "python3"
  },
  "language_info": {
   "codemirror_mode": {
    "name": "ipython",
    "version": 3
   },
   "file_extension": ".py",
   "mimetype": "text/x-python",
   "name": "python",
   "nbconvert_exporter": "python",
   "pygments_lexer": "ipython3",
   "version": "3.6.0"
  }
 },
 "nbformat": 4,
 "nbformat_minor": 2
}
